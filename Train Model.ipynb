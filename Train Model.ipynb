{
 "cells": [
  {
   "cell_type": "code",
   "execution_count": 1,
   "metadata": {},
   "outputs": [],
   "source": [
    "import cv2\n",
    "#os imported to traverse directories\n",
    "import os\n",
    "#numpy imported to convert from list to numpy array\n",
    "import numpy as np"
   ]
  },
  {
   "cell_type": "markdown",
   "metadata": {},
   "source": [
    "## Code for returning ROI for a bigger image\n",
    "#### Region is detected by a Cascade Classifier which uses the default Haar Kernels for detecting faces."
   ]
  },
  {
   "cell_type": "code",
   "execution_count": 4,
   "metadata": {},
   "outputs": [],
   "source": [
    "#Create a cascade classifier for face detection\n",
    "face_detector=cv2.CascadeClassifier('haarcascade_frontalface_default.xml')\n",
    "\n",
    "#Function for returning a grayscale face from the input image\n",
    "def get_face(img):\n",
    "    gray=cv2.cvtColor(img,cv2.COLOR_BGR2GRAY)\n",
    "    \n",
    "    coords=face_detector.detectMultiScale(gray,1.3,5)\n",
    "    for (x,y,w,h) in coords:\n",
    "        return gray[y:y+w,x:x+h]"
   ]
  },
  {
   "cell_type": "markdown",
   "metadata": {},
   "source": [
    "# Code for traversing Dataset directory and building Dataset\n",
    "#### Files are loaded individually and passed to the get_face function for ROI generation"
   ]
  },
  {
   "cell_type": "code",
   "execution_count": 6,
   "metadata": {},
   "outputs": [],
   "source": [
    "path=\"/run/media/sangram/Games and Study Materials/Projects/Face Recognition/Data\"\n",
    "#list all directories in data directory\n",
    "folders=os.listdir(path)\n",
    "\n",
    "#list for face images\n",
    "faces=list()\n",
    "\n",
    "#list for labels\n",
    "labels=list()\n",
    "\n",
    "#traverse folders in data directory\n",
    "for folder in folders:\n",
    "    filepath=path+folder+\"/\"\n",
    "    #all files in subfolder\n",
    "    files=os.listdir(filepath)\n",
    "    for file in files:\n",
    "        #read file\n",
    "        frame=cv2.imread(filepath+file)\n",
    "        #get ROI\n",
    "        facecut=get_face(frame)\n",
    "        \n",
    "        #if face detected successfully append data to features and corresponding label to labels\n",
    "        if facecut is not None:\n",
    "            faces.append(facecut)\n",
    "            labels.append(int(folder))"
   ]
  },
  {
   "cell_type": "code",
   "execution_count": 8,
   "metadata": {},
   "outputs": [],
   "source": [
    "#convert labels to array, because LBPHFaceRecognizer takes labels as numpy array\n",
    "labels=np.array(labels)"
   ]
  },
  {
   "cell_type": "markdown",
   "metadata": {},
   "source": [
    "# Code for Training and Saving Face Recognition model\n",
    "#### Trained using LBPH Classifier. Other possible classifiers are Eigen Faces classifier and Fisher Faces, or other advanced Deep Learning Techniques"
   ]
  },
  {
   "cell_type": "code",
   "execution_count": 9,
   "metadata": {},
   "outputs": [],
   "source": [
    "#create recognizer object\n",
    "recogniser=cv2.face.LBPHFaceRecognizer_create()\n",
    "#train recognizer object\n",
    "recogniser.train(faces,labels)"
   ]
  },
  {
   "cell_type": "code",
   "execution_count": 10,
   "metadata": {},
   "outputs": [],
   "source": [
    "#save trained model\n",
    "recogniser.save(\"facerecog.xml\")"
   ]
  }
 ],
 "metadata": {
  "kernelspec": {
   "display_name": "Python 3",
   "language": "python",
   "name": "python3"
  },
  "language_info": {
   "codemirror_mode": {
    "name": "ipython",
    "version": 3
   },
   "file_extension": ".py",
   "mimetype": "text/x-python",
   "name": "python",
   "nbconvert_exporter": "python",
   "pygments_lexer": "ipython3",
   "version": "3.6.8"
  }
 },
 "nbformat": 4,
 "nbformat_minor": 2
}
